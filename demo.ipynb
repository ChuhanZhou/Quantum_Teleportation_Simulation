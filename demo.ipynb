{
 "cells": [
  {
   "cell_type": "code",
   "execution_count": 1,
   "id": "43a74328-1315-4631-b0a7-ec847ec87f10",
   "metadata": {},
   "outputs": [],
   "source": [
    "import numpy as np\n",
    "from multiprocessing import Manager,Process\n",
    "from matplotlib import pyplot as plt\n",
    "\n",
    "import qubits\n",
    "import bell_state\n",
    "import jupyter_function"
   ]
  },
  {
   "cell_type": "markdown",
   "id": "bcbd2512-e327-403a-9cd1-83d0ed00898f",
   "metadata": {},
   "source": [
    "Send message base on pure state (classic prototype)"
   ]
  },
  {
   "cell_type": "code",
   "execution_count": 2,
   "id": "4b271eec-61b4-4b0a-9f49-27d725f1d9ff",
   "metadata": {},
   "outputs": [
    {
     "name": "stdout",
     "output_type": "stream",
     "text": [
      "qubit_c(sender):1 | measurement_ca(send):00 | qubit_b(receiver):1\n"
     ]
    }
   ],
   "source": [
    "#Alice and Bob know state_ab, Alice gets qubit_a, Bob has qubit_b\n",
    "state_ab = \"00\"\n",
    "\n",
    "#Alice set message in qubit_c state (0 or 1)\n",
    "message = 1\n",
    "qubit_c = qubits.get_qubit_matrix([message])\n",
    "\n",
    "#Alice do bell measurement on qubit_c and qubit_a to build entangled relationship\n",
    "#and this operation change the state of qubit_b base on qubit_c at the same time\n",
    "#then Alice send measurement result in traditional communication method to Bob\n",
    "qubit_b,state_ca = bell_state.teleportation(qubit_c,state_ab)\n",
    "\n",
    "#Bob use gates on qubit_b base on the measurement result\n",
    "#how to choose gates: \n",
    "#    measurement result is base on entangled relationship between qubit_c and qubit_a which is same like the relationship between qubit_a and qubit_b\n",
    "#    which means that how the measurement result changed from state_ab to state_bc is same like the state that qubit_c changed to qubit_b\n",
    "#    so when Bob know the state_ab and state_ca, he could find the way to restore state_ab from state_ca\n",
    "#    and he could do the same operation on qubit_b to restore the state of orignal qubit_c and get the message\n",
    "qubit_b = bell_state.unitary_operation(qubit_b, 0, state_ca, state_ab)\n",
    "state_b = qubits.measurement(qubit_b,[0])[0]\n",
    "print(\"qubit_c(sender):{} | measurement_ca(send):{} | qubit_b(receiver):{}\".format(message, state_ca, state_b))"
   ]
  },
  {
   "cell_type": "markdown",
   "id": "1f137593-3308-48b2-b59f-6b8df98c9cdf",
   "metadata": {},
   "source": [
    "Send message base on superposition state (message in probability)"
   ]
  },
  {
   "cell_type": "code",
   "execution_count": 3,
   "id": "a7d74372-010a-4210-aeba-a84b8a25aac6",
   "metadata": {
    "tags": []
   },
   "outputs": [
    {
     "name": "stdout",
     "output_type": "stream",
     "text": [
      "encode_qubit_c:\n",
      "[[0.81373347]\n",
      " [0.58123819]]\n",
      "{'0': 5825, '1': 4175}\n",
      "message(sender):7(decimal) = 3(binary bit) | batch of qubit:10000 | decode_probability(receiver):6.976047904191617 => 7\n"
     ]
    }
   ],
   "source": [
    "batch_n = 10 ** 4\n",
    "state_ab = \"00\"\n",
    "message = 7\n",
    "decode_key = 5\n",
    "qubit_c = qubits.normalization(np.array([[message],\n",
    "                                         [decode_key]]))\n",
    "receive = {\"0\":0,\"1\":0}\n",
    "print(\"encode_qubit_c:\\n{}\".format(qubit_c))\n",
    "\n",
    "#receive different state_ca and measure qubit_b for many times, qubit_b is superposition state\n",
    "qubit_b, state_ca = bell_state.teleportation(qubit_c, state_ab)\n",
    "qubit_b = bell_state.unitary_operation(qubit_b, 0, state_ca, state_ab)\n",
    "for i in range(batch_n):\n",
    "    state_b = qubits.measurement(qubit_b, [0])[0]\n",
    "    receive[state_b] = receive[state_b]+1\n",
    "print(receive)\n",
    "receive_message = decode_key/receive[\"1\"]*receive[\"0\"]\n",
    "print(\"message(sender):{}(decimal) = {}(binary bit) | batch of qubit:{} | decode_probability(receiver):{} => {}\".format(message,len(bin(message).split(\"0b\")[-1]),batch_n,receive_message,round(receive_message)))"
   ]
  },
  {
   "cell_type": "code",
   "execution_count": 4,
   "id": "c0bed0d8-8db2-47ae-bc81-47e4253adc9d",
   "metadata": {},
   "outputs": [],
   "source": [
    "def test_message_in_superposition_state(message=1,decode_key=1,index_test_n = 1000,index_list = range(0, 7),thread_number=8,state_ab=\"00\"):\n",
    "    qubit_c = qubits.normalization(np.array([[message],\n",
    "                                             [decode_key]]))\n",
    "    qubit_b, state_ca = bell_state.teleportation(qubit_c, state_ab)\n",
    "    qubit_b = bell_state.unitary_operation(qubit_b, 0, state_ca, state_ab)\n",
    "\n",
    "    accuracy_list = []\n",
    "    for i in index_list:\n",
    "        # multi_thread\n",
    "        thread_n = thread_number\n",
    "        task_manager = Manager()\n",
    "        result_queue = task_manager.Queue(thread_n)\n",
    "        submit_total = 0\n",
    "        task_list = []\n",
    "        for t_i in range(thread_n):\n",
    "            if t_i is not thread_n - 1:\n",
    "                submit_n = int(index_test_n / thread_n)\n",
    "            else:\n",
    "                submit_n = index_test_n - submit_total\n",
    "            task = Process(target=jupyter_function.multi_thread_measurement,\n",
    "                           args=[submit_n, message, i, qubit_b, decode_key, result_queue])\n",
    "            task.start()\n",
    "            task_list.append(task)\n",
    "            submit_total += submit_n\n",
    "        for task in task_list:\n",
    "            task.join()\n",
    "            task.close()\n",
    "\n",
    "        wrong_n = 0\n",
    "        for r_i in range(result_queue.qsize()):\n",
    "            wrong_n += result_queue.get()\n",
    "        accuracy = (index_test_n - wrong_n) / index_test_n\n",
    "        accuracy_list.append(accuracy)\n",
    "    return accuracy_list"
   ]
  },
  {
   "cell_type": "code",
   "execution_count": 5,
   "id": "0be2e331-b8e1-486d-a957-1df2f9db097e",
   "metadata": {},
   "outputs": [],
   "source": [
    "thread_number = 40\n",
    "accuracy_3_4 = test_message_in_superposition_state(message = 9,decode_key = 5,index_test_n = 1000,index_list = range(0, 7),thread_number=thread_number)\n",
    "accuracy_6_7 = test_message_in_superposition_state(message = 99,decode_key = 50,index_test_n = 1000,index_list = range(0, 7),thread_number=thread_number)"
   ]
  },
  {
   "cell_type": "code",
   "execution_count": 14,
   "id": "ec27ef5a-77ea-4caf-b198-2662904c4db6",
   "metadata": {},
   "outputs": [
    {
     "data": {
      "image/png": "[encoded data removed]",
      "text/plain": [
       "<Figure size 640x480 with 1 Axes>"
      ]
     },
     "metadata": {},
     "output_type": "display_data"
    }
   ],
   "source": [
    "plt.plot(range(0, 7), np.array(accuracy_3_4)*100, label=\"send 3 to 4 binary bits\")\n",
    "plt.plot(range(0, 7), np.array(accuracy_6_7)*100, label=\"send 6 to 7 binary bits\")\n",
    "plt.ylabel(\"Accuracy [%]\")\n",
    "plt.xlabel(\"Number of qubit [10ⁿ]\")\n",
    "plt.title(\"How many qubits need to be used when send a message base on the superposition state\")\n",
    "plt.legend()\n",
    "plt.show()"
   ]
  },
  {
   "cell_type": "markdown",
   "id": "4634fe19-31c0-4e79-91bb-ee87650b4a65",
   "metadata": {},
   "source": [
    "Conclusion: using superposition state to send message would waste a lot of qubit which is a bad idea to send nomal infomation"
   ]
  },
  {
   "cell_type": "markdown",
   "id": "a98b615f-2ddd-4eb1-9c19-e470e6f24003",
   "metadata": {},
   "source": [
    "Send message base on classic state (massage encode as 0 or 1)"
   ]
  },
  {
   "cell_type": "code",
   "execution_count": 7,
   "id": "117dcdf7-297e-4593-a7d3-eff8f68315e6",
   "metadata": {},
   "outputs": [
    {
     "name": "stdout",
     "output_type": "stream",
     "text": [
      "[Send]:Hello World!\n",
      "[Encode]:10010000110010101101100011011000110111100100000010101110110111101110010011011000110010000100001\n"
     ]
    }
   ],
   "source": [
    "message = \"Hello World!\"\n",
    "print(\"[Send]:{}\".format(message))\n",
    "message_encode = format(int(bytes(message, 'utf-8').hex(), base=16), 'b')\n",
    "print(\"[Encode]:{}\".format(message_encode))"
   ]
  },
  {
   "cell_type": "code",
   "execution_count": 8,
   "id": "d9316a63-f09d-4f26-a883-3744df06c88d",
   "metadata": {},
   "outputs": [
    {
     "name": "stdout",
     "output_type": "stream",
     "text": [
      "qubit_c(sender):1 | measurement_ca(send):01 | qubit_b(receiver):1\n",
      "qubit_c(sender):0 | measurement_ca(send):10 | qubit_b(receiver):0\n",
      "qubit_c(sender):0 | measurement_ca(send):10 | qubit_b(receiver):0\n",
      "qubit_c(sender):1 | measurement_ca(send):11 | qubit_b(receiver):1\n",
      "qubit_c(sender):0 | measurement_ca(send):00 | qubit_b(receiver):0\n",
      "qubit_c(sender):0 | measurement_ca(send):10 | qubit_b(receiver):0\n",
      "qubit_c(sender):0 | measurement_ca(send):10 | qubit_b(receiver):0\n",
      "qubit_c(sender):0 | measurement_ca(send):01 | qubit_b(receiver):0\n",
      "qubit_c(sender):1 | measurement_ca(send):10 | qubit_b(receiver):1\n",
      "qubit_c(sender):1 | measurement_ca(send):10 | qubit_b(receiver):1\n",
      "qubit_c(sender):0 | measurement_ca(send):00 | qubit_b(receiver):0\n",
      "qubit_c(sender):0 | measurement_ca(send):10 | qubit_b(receiver):0\n",
      "qubit_c(sender):1 | measurement_ca(send):11 | qubit_b(receiver):1\n",
      "qubit_c(sender):0 | measurement_ca(send):01 | qubit_b(receiver):0\n",
      "qubit_c(sender):1 | measurement_ca(send):11 | qubit_b(receiver):1\n",
      "qubit_c(sender):0 | measurement_ca(send):11 | qubit_b(receiver):0\n",
      "qubit_c(sender):1 | measurement_ca(send):01 | qubit_b(receiver):1\n",
      "qubit_c(sender):1 | measurement_ca(send):00 | qubit_b(receiver):1\n",
      "qubit_c(sender):0 | measurement_ca(send):10 | qubit_b(receiver):0\n",
      "qubit_c(sender):1 | measurement_ca(send):00 | qubit_b(receiver):1\n",
      "qubit_c(sender):1 | measurement_ca(send):01 | qubit_b(receiver):1\n",
      "qubit_c(sender):0 | measurement_ca(send):00 | qubit_b(receiver):0\n",
      "qubit_c(sender):0 | measurement_ca(send):01 | qubit_b(receiver):0\n",
      "qubit_c(sender):0 | measurement_ca(send):00 | qubit_b(receiver):0\n",
      "qubit_c(sender):1 | measurement_ca(send):01 | qubit_b(receiver):1\n",
      "qubit_c(sender):1 | measurement_ca(send):00 | qubit_b(receiver):1\n",
      "qubit_c(sender):0 | measurement_ca(send):11 | qubit_b(receiver):0\n",
      "qubit_c(sender):1 | measurement_ca(send):10 | qubit_b(receiver):1\n",
      "qubit_c(sender):1 | measurement_ca(send):11 | qubit_b(receiver):1\n",
      "qubit_c(sender):0 | measurement_ca(send):10 | qubit_b(receiver):0\n",
      "qubit_c(sender):0 | measurement_ca(send):00 | qubit_b(receiver):0\n",
      "qubit_c(sender):0 | measurement_ca(send):11 | qubit_b(receiver):0\n",
      "qubit_c(sender):1 | measurement_ca(send):11 | qubit_b(receiver):1\n",
      "qubit_c(sender):1 | measurement_ca(send):01 | qubit_b(receiver):1\n",
      "qubit_c(sender):0 | measurement_ca(send):01 | qubit_b(receiver):0\n",
      "qubit_c(sender):1 | measurement_ca(send):10 | qubit_b(receiver):1\n",
      "qubit_c(sender):1 | measurement_ca(send):01 | qubit_b(receiver):1\n",
      "qubit_c(sender):1 | measurement_ca(send):11 | qubit_b(receiver):1\n",
      "qubit_c(sender):1 | measurement_ca(send):10 | qubit_b(receiver):1\n",
      "qubit_c(sender):0 | measurement_ca(send):00 | qubit_b(receiver):0\n",
      "qubit_c(sender):0 | measurement_ca(send):10 | qubit_b(receiver):0\n",
      "qubit_c(sender):1 | measurement_ca(send):00 | qubit_b(receiver):1\n",
      "qubit_c(sender):0 | measurement_ca(send):11 | qubit_b(receiver):0\n",
      "qubit_c(sender):0 | measurement_ca(send):10 | qubit_b(receiver):0\n",
      "qubit_c(sender):0 | measurement_ca(send):11 | qubit_b(receiver):0\n",
      "qubit_c(sender):0 | measurement_ca(send):00 | qubit_b(receiver):0\n",
      "qubit_c(sender):0 | measurement_ca(send):11 | qubit_b(receiver):0\n",
      "qubit_c(sender):0 | measurement_ca(send):10 | qubit_b(receiver):0\n",
      "qubit_c(sender):1 | measurement_ca(send):01 | qubit_b(receiver):1\n",
      "qubit_c(sender):0 | measurement_ca(send):01 | qubit_b(receiver):0\n",
      "qubit_c(sender):1 | measurement_ca(send):11 | qubit_b(receiver):1\n",
      "qubit_c(sender):0 | measurement_ca(send):00 | qubit_b(receiver):0\n",
      "qubit_c(sender):1 | measurement_ca(send):11 | qubit_b(receiver):1\n",
      "qubit_c(sender):1 | measurement_ca(send):00 | qubit_b(receiver):1\n",
      "qubit_c(sender):1 | measurement_ca(send):01 | qubit_b(receiver):1\n",
      "qubit_c(sender):0 | measurement_ca(send):01 | qubit_b(receiver):0\n",
      "qubit_c(sender):1 | measurement_ca(send):10 | qubit_b(receiver):1\n",
      "qubit_c(sender):1 | measurement_ca(send):11 | qubit_b(receiver):1\n",
      "qubit_c(sender):0 | measurement_ca(send):00 | qubit_b(receiver):0\n",
      "qubit_c(sender):1 | measurement_ca(send):01 | qubit_b(receiver):1\n",
      "qubit_c(sender):1 | measurement_ca(send):10 | qubit_b(receiver):1\n",
      "qubit_c(sender):1 | measurement_ca(send):00 | qubit_b(receiver):1\n",
      "qubit_c(sender):1 | measurement_ca(send):10 | qubit_b(receiver):1\n",
      "qubit_c(sender):0 | measurement_ca(send):00 | qubit_b(receiver):0\n",
      "qubit_c(sender):1 | measurement_ca(send):10 | qubit_b(receiver):1\n",
      "qubit_c(sender):1 | measurement_ca(send):11 | qubit_b(receiver):1\n",
      "qubit_c(sender):1 | measurement_ca(send):00 | qubit_b(receiver):1\n",
      "qubit_c(sender):0 | measurement_ca(send):00 | qubit_b(receiver):0\n",
      "qubit_c(sender):0 | measurement_ca(send):01 | qubit_b(receiver):0\n",
      "qubit_c(sender):1 | measurement_ca(send):11 | qubit_b(receiver):1\n",
      "qubit_c(sender):0 | measurement_ca(send):10 | qubit_b(receiver):0\n",
      "qubit_c(sender):0 | measurement_ca(send):00 | qubit_b(receiver):0\n",
      "qubit_c(sender):1 | measurement_ca(send):10 | qubit_b(receiver):1\n",
      "qubit_c(sender):1 | measurement_ca(send):00 | qubit_b(receiver):1\n",
      "qubit_c(sender):0 | measurement_ca(send):00 | qubit_b(receiver):0\n",
      "qubit_c(sender):1 | measurement_ca(send):11 | qubit_b(receiver):1\n",
      "qubit_c(sender):1 | measurement_ca(send):00 | qubit_b(receiver):1\n",
      "qubit_c(sender):0 | measurement_ca(send):01 | qubit_b(receiver):0\n",
      "qubit_c(sender):0 | measurement_ca(send):10 | qubit_b(receiver):0\n",
      "qubit_c(sender):0 | measurement_ca(send):01 | qubit_b(receiver):0\n",
      "qubit_c(sender):1 | measurement_ca(send):00 | qubit_b(receiver):1\n",
      "qubit_c(sender):1 | measurement_ca(send):10 | qubit_b(receiver):1\n",
      "qubit_c(sender):0 | measurement_ca(send):10 | qubit_b(receiver):0\n",
      "qubit_c(sender):0 | measurement_ca(send):10 | qubit_b(receiver):0\n",
      "qubit_c(sender):1 | measurement_ca(send):10 | qubit_b(receiver):1\n",
      "qubit_c(sender):0 | measurement_ca(send):01 | qubit_b(receiver):0\n",
      "qubit_c(sender):0 | measurement_ca(send):01 | qubit_b(receiver):0\n",
      "qubit_c(sender):0 | measurement_ca(send):11 | qubit_b(receiver):0\n",
      "qubit_c(sender):0 | measurement_ca(send):00 | qubit_b(receiver):0\n",
      "qubit_c(sender):1 | measurement_ca(send):11 | qubit_b(receiver):1\n",
      "qubit_c(sender):0 | measurement_ca(send):01 | qubit_b(receiver):0\n",
      "qubit_c(sender):0 | measurement_ca(send):10 | qubit_b(receiver):0\n",
      "qubit_c(sender):0 | measurement_ca(send):00 | qubit_b(receiver):0\n",
      "qubit_c(sender):0 | measurement_ca(send):10 | qubit_b(receiver):0\n",
      "qubit_c(sender):1 | measurement_ca(send):01 | qubit_b(receiver):1\n"
     ]
    }
   ],
   "source": [
    "receive_buffer=\"\"\n",
    "for m in message_encode:\n",
    "    state_ab = \"10\"\n",
    "    qubits_ab = qubits.get_qubit_matrix(state_ab)\n",
    "    qubit_c = qubits.get_qubit_matrix([m])\n",
    "    qubit_b,state_ca = bell_state.teleportation(qubit_c,state_ab)\n",
    "    \n",
    "    qubit_b = bell_state.unitary_operation(qubit_b, 0, state_ca, state_ab)\n",
    "    state_b = qubits.measurement(qubit_b,[0])[0]\n",
    "    receive_buffer += state_b\n",
    "    print(\"qubit_c(sender):{} | measurement_ca(send):{} | qubit_b(receiver):{}\".format(m, state_ca, state_b))"
   ]
  },
  {
   "cell_type": "code",
   "execution_count": 9,
   "id": "20b1fb32-8132-4483-9296-6663b1dd5f60",
   "metadata": {},
   "outputs": [
    {
     "name": "stdout",
     "output_type": "stream",
     "text": [
      "[Receive]:10010000110010101101100011011000110111100100000010101110110111101110010011011000110010000100001\n",
      "[Decode]:Hello World! (95 binary bit)\n"
     ]
    }
   ],
   "source": [
    "print(\"[Receive]:{}\".format(receive_buffer))\n",
    "message_decode = bytes.fromhex(format(int(receive_buffer, base=2), 'x')).decode('utf-8')\n",
    "print(\"[Decode]:{} ({} binary bit)\".format(message_decode,len(receive_buffer)))"
   ]
  },
  {
   "cell_type": "code",
   "execution_count": null,
   "id": "97082f4c-63bd-4ebc-bb36-1ae02a8c991c",
   "metadata": {},
   "outputs": [],
   "source": []
  },
  {
   "cell_type": "code",
   "execution_count": null,
   "id": "bbb50b8e-7299-42c8-8f75-5b13257d4f40",
   "metadata": {},
   "outputs": [],
   "source": []
  }
 ],
 "metadata": {
  "kernelspec": {
   "display_name": "env_SCIQIS_test",
   "language": "python",
   "name": "env_sciqis_test"
  },
  "language_info": {
   "codemirror_mode": {
    "name": "ipython",
    "version": 3
   },
   "file_extension": ".py",
   "mimetype": "text/x-python",
   "name": "python",
   "nbconvert_exporter": "python",
   "pygments_lexer": "ipython3",
   "version": "3.7.16"
  }
 },
 "nbformat": 4,
 "nbformat_minor": 5
}
