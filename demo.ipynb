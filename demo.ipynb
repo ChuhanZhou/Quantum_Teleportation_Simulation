{
 "cells": [
  {
   "cell_type": "code",
   "execution_count": 1,
   "id": "43a74328-1315-4631-b0a7-ec847ec87f10",
   "metadata": {},
   "outputs": [],
   "source": [
    "import numpy as np\n",
    "import qubits\n",
    "import bell_state"
   ]
  },
  {
   "cell_type": "markdown",
   "id": "bcbd2512-e327-403a-9cd1-83d0ed00898f",
   "metadata": {},
   "source": [
    "Send message base on pure state (classic prototype)"
   ]
  },
  {
   "cell_type": "code",
   "execution_count": 2,
   "id": "4b271eec-61b4-4b0a-9f49-27d725f1d9ff",
   "metadata": {},
   "outputs": [
    {
     "name": "stdout",
     "output_type": "stream",
     "text": [
      "qubit_c(sender):1 | measurement_ca(send):00 | qubit_b(receiver):1\n"
     ]
    }
   ],
   "source": [
    "#Alice and Bob know state_ab, Alice gets qubit_a, Bob has qubit_b\n",
    "state_ab = \"00\"\n",
    "\n",
    "#Alice set message in qubit_c state (0 or 1)\n",
    "message = 1\n",
    "qubit_c = qubits.get_qubit_matrix([message])\n",
    "\n",
    "#Alice do bell measurement on qubit_c and qubit_a to build entangled relationship\n",
    "#and this operation change the state of qubit_b base on qubit_c at the same time\n",
    "#then Alice send measurement result in traditional communication method to Bob\n",
    "qubit_b,state_ca = bell_state.teleportation(qubit_c,state_ab)\n",
    "\n",
    "#Bob use gates on qubit_b base on the measurement result\n",
    "#how to choose gates: \n",
    "#    measurement result is base on entangled relationship between qubit_c and qubit_a which is same like the relationship between qubit_a and qubit_b\n",
    "#    which means that how the measurement result changed from state_ab to state_bc is same like the state that qubit_c changed to qubit_b\n",
    "#    so when Bob know the state_ab and state_ca, he could find the way to restore state_ab from state_ca\n",
    "#    and he could do the same operation on qubit_b to restore the state of orignal qubit_c and get the message\n",
    "qubit_b = bell_state.unitary_operation(qubit_b, 0, state_ca, state_ab)\n",
    "state_b = qubits.measurement(qubit_b,[0])[0]\n",
    "print(\"qubit_c(sender):{} | measurement_ca(send):{} | qubit_b(receiver):{}\".format(message, state_ca, state_b))"
   ]
  },
  {
   "cell_type": "markdown",
   "id": "1f137593-3308-48b2-b59f-6b8df98c9cdf",
   "metadata": {},
   "source": [
    "Send message base on superposition state (message in probability)"
   ]
  },
  {
   "cell_type": "code",
   "execution_count": 3,
   "id": "a7d74372-010a-4210-aeba-a84b8a25aac6",
   "metadata": {
    "tags": []
   },
   "outputs": [
    {
     "name": "stdout",
     "output_type": "stream",
     "text": [
      "encode_qubit_c:\n",
      "[[0.81373347]\n",
      " [0.58123819]]\n",
      "{'0': 5842, '1': 4158}\n",
      "message(sender):7(decimal) = 3(bianary bit) | batch of qubit:10000 | decode_probability(receiver):7.025012025012026 => 7\n"
     ]
    }
   ],
   "source": [
    "batch_n = 10 ** 4\n",
    "state_ab = \"00\"\n",
    "message = 7\n",
    "decode_key = 5\n",
    "qubit_c = qubits.normalization(np.array([[message],\n",
    "                                         [decode_key]]))\n",
    "receive = {\"0\":0,\"1\":0}\n",
    "print(\"encode_qubit_c:\\n{}\".format(qubit_c))\n",
    "\n",
    "#receive different state_ca and measure qubit_b for many times, qubit_b is superposition state\n",
    "qubit_b, state_ca = bell_state.teleportation(qubit_c, state_ab)\n",
    "qubit_b = bell_state.unitary_operation(qubit_b, 0, state_ca, state_ab)\n",
    "for i in range(batch_n):\n",
    "    state_b = qubits.measurement(qubit_b, [0])[0]\n",
    "    receive[state_b] = receive[state_b]+1\n",
    "print(receive)\n",
    "receive_message = decode_key/receive[\"1\"]*receive[\"0\"]\n",
    "print(\"message(sender):{}(decimal) = {}(bianary bit) | batch of qubit:{} | decode_probability(receiver):{} => {}\".format(message,len(bin(message).split(\"0b\")[-1]),batch_n,receive_message,round(receive_message)))"
   ]
  },
  {
   "cell_type": "markdown",
   "id": "4634fe19-31c0-4e79-91bb-ee87650b4a65",
   "metadata": {},
   "source": [
    "Conclusion: use superposition state to send message would waste a lot of qubit which is a bad idea to send nomal infomation"
   ]
  },
  {
   "cell_type": "markdown",
   "id": "a98b615f-2ddd-4eb1-9c19-e470e6f24003",
   "metadata": {},
   "source": [
    "Send message base on classic state (massage encode as 0 or 1)"
   ]
  },
  {
   "cell_type": "code",
   "execution_count": 4,
   "id": "117dcdf7-297e-4593-a7d3-eff8f68315e6",
   "metadata": {},
   "outputs": [
    {
     "name": "stdout",
     "output_type": "stream",
     "text": [
      "[Send]:Hello World!\n",
      "[Encode]:10010000110010101101100011011000110111100100000010101110110111101110010011011000110010000100001\n"
     ]
    }
   ],
   "source": [
    "message = \"Hello World!\"\n",
    "print(\"[Send]:{}\".format(message))\n",
    "message_encode = format(int(bytes(message, 'utf-8').hex(), base=16), 'b')\n",
    "print(\"[Encode]:{}\".format(message_encode))"
   ]
  },
  {
   "cell_type": "code",
   "execution_count": 5,
   "id": "d9316a63-f09d-4f26-a883-3744df06c88d",
   "metadata": {},
   "outputs": [
    {
     "name": "stdout",
     "output_type": "stream",
     "text": [
      "qubit_c(sender):1 | measurement_ca(send):10 | qubit_b(receiver):1\n",
      "qubit_c(sender):0 | measurement_ca(send):10 | qubit_b(receiver):0\n",
      "qubit_c(sender):0 | measurement_ca(send):10 | qubit_b(receiver):0\n",
      "qubit_c(sender):1 | measurement_ca(send):11 | qubit_b(receiver):1\n",
      "qubit_c(sender):0 | measurement_ca(send):00 | qubit_b(receiver):0\n",
      "qubit_c(sender):0 | measurement_ca(send):01 | qubit_b(receiver):0\n",
      "qubit_c(sender):0 | measurement_ca(send):01 | qubit_b(receiver):0\n",
      "qubit_c(sender):0 | measurement_ca(send):01 | qubit_b(receiver):0\n",
      "qubit_c(sender):1 | measurement_ca(send):11 | qubit_b(receiver):1\n",
      "qubit_c(sender):1 | measurement_ca(send):10 | qubit_b(receiver):1\n",
      "qubit_c(sender):0 | measurement_ca(send):10 | qubit_b(receiver):0\n",
      "qubit_c(sender):0 | measurement_ca(send):11 | qubit_b(receiver):0\n",
      "qubit_c(sender):1 | measurement_ca(send):00 | qubit_b(receiver):1\n",
      "qubit_c(sender):0 | measurement_ca(send):00 | qubit_b(receiver):0\n",
      "qubit_c(sender):1 | measurement_ca(send):00 | qubit_b(receiver):1\n",
      "qubit_c(sender):0 | measurement_ca(send):00 | qubit_b(receiver):0\n",
      "qubit_c(sender):1 | measurement_ca(send):10 | qubit_b(receiver):1\n",
      "qubit_c(sender):1 | measurement_ca(send):01 | qubit_b(receiver):1\n",
      "qubit_c(sender):0 | measurement_ca(send):01 | qubit_b(receiver):0\n",
      "qubit_c(sender):1 | measurement_ca(send):00 | qubit_b(receiver):1\n",
      "qubit_c(sender):1 | measurement_ca(send):11 | qubit_b(receiver):1\n",
      "qubit_c(sender):0 | measurement_ca(send):10 | qubit_b(receiver):0\n",
      "qubit_c(sender):0 | measurement_ca(send):10 | qubit_b(receiver):0\n",
      "qubit_c(sender):0 | measurement_ca(send):01 | qubit_b(receiver):0\n",
      "qubit_c(sender):1 | measurement_ca(send):11 | qubit_b(receiver):1\n",
      "qubit_c(sender):1 | measurement_ca(send):10 | qubit_b(receiver):1\n",
      "qubit_c(sender):0 | measurement_ca(send):01 | qubit_b(receiver):0\n",
      "qubit_c(sender):1 | measurement_ca(send):11 | qubit_b(receiver):1\n",
      "qubit_c(sender):1 | measurement_ca(send):00 | qubit_b(receiver):1\n",
      "qubit_c(sender):0 | measurement_ca(send):01 | qubit_b(receiver):0\n",
      "qubit_c(sender):0 | measurement_ca(send):10 | qubit_b(receiver):0\n",
      "qubit_c(sender):0 | measurement_ca(send):00 | qubit_b(receiver):0\n",
      "qubit_c(sender):1 | measurement_ca(send):10 | qubit_b(receiver):1\n",
      "qubit_c(sender):1 | measurement_ca(send):00 | qubit_b(receiver):1\n",
      "qubit_c(sender):0 | measurement_ca(send):11 | qubit_b(receiver):0\n",
      "qubit_c(sender):1 | measurement_ca(send):11 | qubit_b(receiver):1\n",
      "qubit_c(sender):1 | measurement_ca(send):00 | qubit_b(receiver):1\n",
      "qubit_c(sender):1 | measurement_ca(send):10 | qubit_b(receiver):1\n",
      "qubit_c(sender):1 | measurement_ca(send):00 | qubit_b(receiver):1\n",
      "qubit_c(sender):0 | measurement_ca(send):01 | qubit_b(receiver):0\n",
      "qubit_c(sender):0 | measurement_ca(send):01 | qubit_b(receiver):0\n",
      "qubit_c(sender):1 | measurement_ca(send):00 | qubit_b(receiver):1\n",
      "qubit_c(sender):0 | measurement_ca(send):01 | qubit_b(receiver):0\n",
      "qubit_c(sender):0 | measurement_ca(send):00 | qubit_b(receiver):0\n",
      "qubit_c(sender):0 | measurement_ca(send):11 | qubit_b(receiver):0\n",
      "qubit_c(sender):0 | measurement_ca(send):00 | qubit_b(receiver):0\n",
      "qubit_c(sender):0 | measurement_ca(send):10 | qubit_b(receiver):0\n",
      "qubit_c(sender):0 | measurement_ca(send):11 | qubit_b(receiver):0\n",
      "qubit_c(sender):1 | measurement_ca(send):01 | qubit_b(receiver):1\n",
      "qubit_c(sender):0 | measurement_ca(send):00 | qubit_b(receiver):0\n",
      "qubit_c(sender):1 | measurement_ca(send):00 | qubit_b(receiver):1\n",
      "qubit_c(sender):0 | measurement_ca(send):00 | qubit_b(receiver):0\n",
      "qubit_c(sender):1 | measurement_ca(send):10 | qubit_b(receiver):1\n",
      "qubit_c(sender):1 | measurement_ca(send):01 | qubit_b(receiver):1\n",
      "qubit_c(sender):1 | measurement_ca(send):10 | qubit_b(receiver):1\n",
      "qubit_c(sender):0 | measurement_ca(send):01 | qubit_b(receiver):0\n",
      "qubit_c(sender):1 | measurement_ca(send):11 | qubit_b(receiver):1\n",
      "qubit_c(sender):1 | measurement_ca(send):00 | qubit_b(receiver):1\n",
      "qubit_c(sender):0 | measurement_ca(send):11 | qubit_b(receiver):0\n",
      "qubit_c(sender):1 | measurement_ca(send):11 | qubit_b(receiver):1\n",
      "qubit_c(sender):1 | measurement_ca(send):01 | qubit_b(receiver):1\n",
      "qubit_c(sender):1 | measurement_ca(send):10 | qubit_b(receiver):1\n",
      "qubit_c(sender):1 | measurement_ca(send):01 | qubit_b(receiver):1\n",
      "qubit_c(sender):0 | measurement_ca(send):00 | qubit_b(receiver):0\n",
      "qubit_c(sender):1 | measurement_ca(send):11 | qubit_b(receiver):1\n",
      "qubit_c(sender):1 | measurement_ca(send):11 | qubit_b(receiver):1\n",
      "qubit_c(sender):1 | measurement_ca(send):01 | qubit_b(receiver):1\n",
      "qubit_c(sender):0 | measurement_ca(send):01 | qubit_b(receiver):0\n",
      "qubit_c(sender):0 | measurement_ca(send):00 | qubit_b(receiver):0\n",
      "qubit_c(sender):1 | measurement_ca(send):00 | qubit_b(receiver):1\n",
      "qubit_c(sender):0 | measurement_ca(send):11 | qubit_b(receiver):0\n",
      "qubit_c(sender):0 | measurement_ca(send):00 | qubit_b(receiver):0\n",
      "qubit_c(sender):1 | measurement_ca(send):00 | qubit_b(receiver):1\n",
      "qubit_c(sender):1 | measurement_ca(send):00 | qubit_b(receiver):1\n",
      "qubit_c(sender):0 | measurement_ca(send):10 | qubit_b(receiver):0\n",
      "qubit_c(sender):1 | measurement_ca(send):01 | qubit_b(receiver):1\n",
      "qubit_c(sender):1 | measurement_ca(send):11 | qubit_b(receiver):1\n",
      "qubit_c(sender):0 | measurement_ca(send):11 | qubit_b(receiver):0\n",
      "qubit_c(sender):0 | measurement_ca(send):00 | qubit_b(receiver):0\n",
      "qubit_c(sender):0 | measurement_ca(send):00 | qubit_b(receiver):0\n",
      "qubit_c(sender):1 | measurement_ca(send):00 | qubit_b(receiver):1\n",
      "qubit_c(sender):1 | measurement_ca(send):11 | qubit_b(receiver):1\n",
      "qubit_c(sender):0 | measurement_ca(send):01 | qubit_b(receiver):0\n",
      "qubit_c(sender):0 | measurement_ca(send):10 | qubit_b(receiver):0\n",
      "qubit_c(sender):1 | measurement_ca(send):10 | qubit_b(receiver):1\n",
      "qubit_c(sender):0 | measurement_ca(send):00 | qubit_b(receiver):0\n",
      "qubit_c(sender):0 | measurement_ca(send):00 | qubit_b(receiver):0\n",
      "qubit_c(sender):0 | measurement_ca(send):01 | qubit_b(receiver):0\n",
      "qubit_c(sender):0 | measurement_ca(send):01 | qubit_b(receiver):0\n",
      "qubit_c(sender):1 | measurement_ca(send):11 | qubit_b(receiver):1\n",
      "qubit_c(sender):0 | measurement_ca(send):00 | qubit_b(receiver):0\n",
      "qubit_c(sender):0 | measurement_ca(send):11 | qubit_b(receiver):0\n",
      "qubit_c(sender):0 | measurement_ca(send):10 | qubit_b(receiver):0\n",
      "qubit_c(sender):0 | measurement_ca(send):11 | qubit_b(receiver):0\n",
      "qubit_c(sender):1 | measurement_ca(send):01 | qubit_b(receiver):1\n"
     ]
    }
   ],
   "source": [
    "receive_buffer=\"\"\n",
    "for m in message_encode:\n",
    "    state_ab = \"10\"\n",
    "    qubits_ab = qubits.get_qubit_matrix(state_ab)\n",
    "    qubit_c = qubits.get_qubit_matrix([m])\n",
    "    qubit_b,state_ca = bell_state.teleportation(qubit_c,state_ab)\n",
    "    \n",
    "    qubit_b = bell_state.unitary_operation(qubit_b, 0, state_ca, state_ab)\n",
    "    state_b = qubits.measurement(qubit_b,[0])[0]\n",
    "    receive_buffer += state_b\n",
    "    print(\"qubit_c(sender):{} | measurement_ca(send):{} | qubit_b(receiver):{}\".format(m, state_ca, state_b))"
   ]
  },
  {
   "cell_type": "code",
   "execution_count": 6,
   "id": "20b1fb32-8132-4483-9296-6663b1dd5f60",
   "metadata": {},
   "outputs": [
    {
     "name": "stdout",
     "output_type": "stream",
     "text": [
      "[Receive]:10010000110010101101100011011000110111100100000010101110110111101110010011011000110010000100001\n",
      "[Decode]:Hello World! (95 bianary bit)\n"
     ]
    }
   ],
   "source": [
    "print(\"[Receive]:{}\".format(receive_buffer))\n",
    "message_decode = bytes.fromhex(format(int(receive_buffer, base=2), 'x')).decode('utf-8')\n",
    "print(\"[Decode]:{} ({} bianary bit)\".format(message_decode,len(receive_buffer)))"
   ]
  },
  {
   "cell_type": "code",
   "execution_count": null,
   "id": "cab0f9bc-5e31-4609-9567-07468251530b",
   "metadata": {},
   "outputs": [],
   "source": []
  },
  {
   "cell_type": "code",
   "execution_count": null,
   "id": "62188652-8c5e-4c95-8b3c-b995a1a05090",
   "metadata": {},
   "outputs": [],
   "source": []
  },
  {
   "cell_type": "code",
   "execution_count": null,
   "id": "97082f4c-63bd-4ebc-bb36-1ae02a8c991c",
   "metadata": {},
   "outputs": [],
   "source": []
  },
  {
   "cell_type": "code",
   "execution_count": null,
   "id": "bbb50b8e-7299-42c8-8f75-5b13257d4f40",
   "metadata": {},
   "outputs": [],
   "source": []
  }
 ],
 "metadata": {
  "kernelspec": {
   "display_name": "env_SCIQIS_test",
   "language": "python",
   "name": "env_sciqis_test"
  },
  "language_info": {
   "codemirror_mode": {
    "name": "ipython",
    "version": 3
   },
   "file_extension": ".py",
   "mimetype": "text/x-python",
   "name": "python",
   "nbconvert_exporter": "python",
   "pygments_lexer": "ipython3",
   "version": "3.7.16"
  }
 },
 "nbformat": 4,
 "nbformat_minor": 5
}
