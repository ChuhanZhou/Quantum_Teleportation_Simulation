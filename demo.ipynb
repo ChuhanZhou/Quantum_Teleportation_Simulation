{
 "cells": [
  {
   "cell_type": "code",
   "execution_count": 1,
   "id": "43a74328-1315-4631-b0a7-ec847ec87f10",
   "metadata": {
    "tags": []
   },
   "outputs": [],
   "source": [
    "import numpy as np\n",
    "from multiprocessing import Manager,Process\n",
    "from matplotlib import pyplot as plt\n",
    "\n",
    "import qubits\n",
    "import bell_state\n",
    "import main"
   ]
  },
  {
   "cell_type": "markdown",
   "id": "bcbd2512-e327-403a-9cd1-83d0ed00898f",
   "metadata": {},
   "source": [
    "Send message base on pure state (classic prototype: use state vector)"
   ]
  },
  {
   "cell_type": "code",
   "execution_count": 2,
   "id": "4b271eec-61b4-4b0a-9f49-27d725f1d9ff",
   "metadata": {
    "tags": []
   },
   "outputs": [
    {
     "ename": "TypeError",
     "evalue": "'int' object is not subscriptable",
     "output_type": "error",
     "traceback": [
      "\u001b[1;31m---------------------------------------------------------------------------\u001b[0m",
      "\u001b[1;31mTypeError\u001b[0m                                 Traceback (most recent call last)",
      "\u001b[1;32m~\\AppData\\Local\\Temp\\ipykernel_26808\\2659738876.py\u001b[0m in \u001b[0;36m<module>\u001b[1;34m\u001b[0m\n\u001b[0;32m      8\u001b[0m \u001b[1;31m#and this operation change the state of qubit_b base on qubit_c at the same time\u001b[0m\u001b[1;33m\u001b[0m\u001b[1;33m\u001b[0m\u001b[1;33m\u001b[0m\u001b[0m\n\u001b[0;32m      9\u001b[0m \u001b[1;31m#then Alice send measurement result in traditional communication method to Bob\u001b[0m\u001b[1;33m\u001b[0m\u001b[1;33m\u001b[0m\u001b[1;33m\u001b[0m\u001b[0m\n\u001b[1;32m---> 10\u001b[1;33m \u001b[0mqubit_b\u001b[0m\u001b[1;33m,\u001b[0m\u001b[0mstate_ca\u001b[0m \u001b[1;33m=\u001b[0m \u001b[0mbell_state\u001b[0m\u001b[1;33m.\u001b[0m\u001b[0mteleportation\u001b[0m\u001b[1;33m(\u001b[0m\u001b[0mqubit_c\u001b[0m\u001b[1;33m,\u001b[0m\u001b[0mstate_ab\u001b[0m\u001b[1;33m)\u001b[0m\u001b[1;33m\u001b[0m\u001b[1;33m\u001b[0m\u001b[0m\n\u001b[0m\u001b[0;32m     11\u001b[0m \u001b[1;33m\u001b[0m\u001b[0m\n\u001b[0;32m     12\u001b[0m \u001b[1;31m#Bob use gates on qubit_b base on the measurement result\u001b[0m\u001b[1;33m\u001b[0m\u001b[1;33m\u001b[0m\u001b[1;33m\u001b[0m\u001b[0m\n",
      "\u001b[1;32mD:\\学习资料\\DTU\\Scientific Computing in Quantum Information Science\\Quantum_Teleportation_Simulation\\bell_state.py\u001b[0m in \u001b[0;36mteleportation\u001b[1;34m(qubit_c, state_ab, noise_para)\u001b[0m\n\u001b[0;32m     39\u001b[0m         \u001b[1;32mreturn\u001b[0m \u001b[0mdensity_matrix_teleportation\u001b[0m\u001b[1;33m(\u001b[0m\u001b[0mqubit_c\u001b[0m\u001b[1;33m,\u001b[0m\u001b[0mstate_ab\u001b[0m\u001b[1;33m,\u001b[0m\u001b[0mnoise_para\u001b[0m\u001b[1;33m)\u001b[0m\u001b[1;33m\u001b[0m\u001b[1;33m\u001b[0m\u001b[0m\n\u001b[0;32m     40\u001b[0m     \u001b[1;32melse\u001b[0m\u001b[1;33m:\u001b[0m\u001b[1;33m\u001b[0m\u001b[1;33m\u001b[0m\u001b[0m\n\u001b[1;32m---> 41\u001b[1;33m         \u001b[1;32mreturn\u001b[0m \u001b[0mstate_vector_teleportation\u001b[0m\u001b[1;33m(\u001b[0m\u001b[0mqubit_c\u001b[0m\u001b[1;33m,\u001b[0m\u001b[0mstate_ab\u001b[0m\u001b[1;33m)\u001b[0m\u001b[1;33m\u001b[0m\u001b[1;33m\u001b[0m\u001b[0m\n\u001b[0m\u001b[0;32m     42\u001b[0m \u001b[1;33m\u001b[0m\u001b[0m\n\u001b[0;32m     43\u001b[0m \u001b[1;32mdef\u001b[0m \u001b[0mstate_vector_teleportation\u001b[0m\u001b[1;33m(\u001b[0m\u001b[0mqubit_c\u001b[0m\u001b[1;33m,\u001b[0m\u001b[0mstate_ab\u001b[0m\u001b[1;33m)\u001b[0m\u001b[1;33m:\u001b[0m\u001b[1;33m\u001b[0m\u001b[1;33m\u001b[0m\u001b[0m\n",
      "\u001b[1;32mD:\\学习资料\\DTU\\Scientific Computing in Quantum Information Science\\Quantum_Teleportation_Simulation\\bell_state.py\u001b[0m in \u001b[0;36mstate_vector_teleportation\u001b[1;34m(qubit_c, state_ab)\u001b[0m\n\u001b[0;32m     44\u001b[0m     \u001b[0mqubits_ab\u001b[0m \u001b[1;33m=\u001b[0m \u001b[0mqubits\u001b[0m\u001b[1;33m.\u001b[0m\u001b[0mget_qubit_matrix\u001b[0m\u001b[1;33m(\u001b[0m\u001b[1;33m[\u001b[0m\u001b[0ms\u001b[0m \u001b[1;32mfor\u001b[0m \u001b[0ms\u001b[0m \u001b[1;32min\u001b[0m \u001b[0mstate_ab\u001b[0m\u001b[1;33m]\u001b[0m\u001b[1;33m)\u001b[0m\u001b[1;33m\u001b[0m\u001b[1;33m\u001b[0m\u001b[0m\n\u001b[0;32m     45\u001b[0m     \u001b[1;31m# create bell state\u001b[0m\u001b[1;33m\u001b[0m\u001b[1;33m\u001b[0m\u001b[1;33m\u001b[0m\u001b[0m\n\u001b[1;32m---> 46\u001b[1;33m     \u001b[0mbell_ab\u001b[0m \u001b[1;33m=\u001b[0m \u001b[0mentangler\u001b[0m\u001b[1;33m(\u001b[0m\u001b[0mqubits_ab\u001b[0m\u001b[1;33m,\u001b[0m \u001b[1;36m0\u001b[0m\u001b[1;33m,\u001b[0m \u001b[1;36m1\u001b[0m\u001b[1;33m)\u001b[0m\u001b[1;33m\u001b[0m\u001b[1;33m\u001b[0m\u001b[0m\n\u001b[0m\u001b[0;32m     47\u001b[0m     \u001b[0mqubits_c_bell_ab\u001b[0m \u001b[1;33m=\u001b[0m \u001b[0mqubits\u001b[0m\u001b[1;33m.\u001b[0m\u001b[0mto_muti_qubit_matrix\u001b[0m\u001b[1;33m(\u001b[0m\u001b[1;33m[\u001b[0m\u001b[0mqubit_c\u001b[0m\u001b[1;33m,\u001b[0m \u001b[0mbell_ab\u001b[0m\u001b[1;33m]\u001b[0m\u001b[1;33m)\u001b[0m\u001b[1;33m\u001b[0m\u001b[1;33m\u001b[0m\u001b[0m\n\u001b[0;32m     48\u001b[0m     \u001b[0mqubits_bell_ca_b\u001b[0m \u001b[1;33m=\u001b[0m \u001b[0mbell_measurement\u001b[0m\u001b[1;33m(\u001b[0m\u001b[0mqubits_c_bell_ab\u001b[0m\u001b[1;33m,\u001b[0m \u001b[1;36m0\u001b[0m\u001b[1;33m,\u001b[0m \u001b[1;36m1\u001b[0m\u001b[1;33m)\u001b[0m\u001b[1;33m\u001b[0m\u001b[1;33m\u001b[0m\u001b[0m\n",
      "\u001b[1;32mD:\\学习资料\\DTU\\Scientific Computing in Quantum Information Science\\Quantum_Teleportation_Simulation\\bell_state.py\u001b[0m in \u001b[0;36mentangler\u001b[1;34m(qubit_matrix, qubit_a_i, qubit_b_i)\u001b[0m\n\u001b[0;32m      7\u001b[0m     \u001b[0mqubit_n\u001b[0m \u001b[1;33m=\u001b[0m \u001b[0mint\u001b[0m\u001b[1;33m(\u001b[0m\u001b[0mmath\u001b[0m\u001b[1;33m.\u001b[0m\u001b[0mlog2\u001b[0m\u001b[1;33m(\u001b[0m\u001b[0mqubit_matrix\u001b[0m\u001b[1;33m.\u001b[0m\u001b[0mshape\u001b[0m\u001b[1;33m[\u001b[0m\u001b[1;36m0\u001b[0m\u001b[1;33m]\u001b[0m\u001b[1;33m)\u001b[0m\u001b[1;33m)\u001b[0m\u001b[1;33m\u001b[0m\u001b[1;33m\u001b[0m\u001b[0m\n\u001b[0;32m      8\u001b[0m     \u001b[0mplan\u001b[0m \u001b[1;33m=\u001b[0m \u001b[1;33m[\u001b[0m\u001b[1;33m[\u001b[0m\u001b[1;34m\"H\"\u001b[0m\u001b[1;33m,\u001b[0m\u001b[1;33m[\u001b[0m\u001b[0mqubit_a_i\u001b[0m\u001b[1;33m]\u001b[0m\u001b[1;33m]\u001b[0m\u001b[1;33m,\u001b[0m\u001b[1;33m[\u001b[0m\u001b[1;34m\"CNOT\"\u001b[0m\u001b[1;33m,\u001b[0m\u001b[1;33m[\u001b[0m\u001b[0mqubit_a_i\u001b[0m\u001b[1;33m,\u001b[0m\u001b[0mqubit_b_i\u001b[0m\u001b[1;33m]\u001b[0m\u001b[1;33m]\u001b[0m\u001b[1;33m]\u001b[0m\u001b[1;33m\u001b[0m\u001b[1;33m\u001b[0m\u001b[0m\n\u001b[1;32m----> 9\u001b[1;33m     \u001b[0mcreator\u001b[0m \u001b[1;33m=\u001b[0m \u001b[0mcircuits\u001b[0m\u001b[1;33m.\u001b[0m\u001b[0mCircuit\u001b[0m\u001b[1;33m(\u001b[0m\u001b[0mqubit_n\u001b[0m\u001b[1;33m,\u001b[0m \u001b[0mplan\u001b[0m\u001b[1;33m)\u001b[0m\u001b[1;33m\u001b[0m\u001b[1;33m\u001b[0m\u001b[0m\n\u001b[0m\u001b[0;32m     10\u001b[0m     \u001b[1;32mreturn\u001b[0m \u001b[0mcreator\u001b[0m\u001b[1;33m.\u001b[0m\u001b[0mrun\u001b[0m\u001b[1;33m(\u001b[0m\u001b[0mqubit_matrix\u001b[0m\u001b[1;33m)\u001b[0m\u001b[1;33m\u001b[0m\u001b[1;33m\u001b[0m\u001b[0m\n\u001b[0;32m     11\u001b[0m \u001b[1;33m\u001b[0m\u001b[0m\n",
      "\u001b[1;32mD:\\学习资料\\DTU\\Scientific Computing in Quantum Information Science\\Quantum_Teleportation_Simulation\\circuits.py\u001b[0m in \u001b[0;36m__init__\u001b[1;34m(self, input_n, gate_plan)\u001b[0m\n\u001b[0;32m     13\u001b[0m         \"\"\"\n\u001b[0;32m     14\u001b[0m         \u001b[0mself\u001b[0m\u001b[1;33m.\u001b[0m\u001b[0mgate_plan\u001b[0m \u001b[1;33m=\u001b[0m \u001b[0mgate_plan\u001b[0m\u001b[1;33m\u001b[0m\u001b[1;33m\u001b[0m\u001b[0m\n\u001b[1;32m---> 15\u001b[1;33m         \u001b[0mself\u001b[0m\u001b[1;33m.\u001b[0m\u001b[0mblue_print\u001b[0m\u001b[1;33m,\u001b[0m \u001b[0mself\u001b[0m\u001b[1;33m.\u001b[0m\u001b[0mgate_list\u001b[0m \u001b[1;33m=\u001b[0m \u001b[0mself\u001b[0m\u001b[1;33m.\u001b[0m\u001b[0mcreate_blue_print\u001b[0m\u001b[1;33m(\u001b[0m\u001b[0minput_n\u001b[0m\u001b[1;33m,\u001b[0m\u001b[0mgate_plan\u001b[0m\u001b[1;33m)\u001b[0m\u001b[1;33m\u001b[0m\u001b[1;33m\u001b[0m\u001b[0m\n\u001b[0m\u001b[0;32m     16\u001b[0m         \u001b[0mself\u001b[0m\u001b[1;33m.\u001b[0m\u001b[0mcircuit_matrix\u001b[0m \u001b[1;33m=\u001b[0m \u001b[0mself\u001b[0m\u001b[1;33m.\u001b[0m\u001b[0mcreate_circuit_matrix\u001b[0m\u001b[1;33m(\u001b[0m\u001b[0mself\u001b[0m\u001b[1;33m.\u001b[0m\u001b[0mblue_print\u001b[0m\u001b[1;33m,\u001b[0m \u001b[0mself\u001b[0m\u001b[1;33m.\u001b[0m\u001b[0mgate_list\u001b[0m\u001b[1;33m)\u001b[0m\u001b[1;33m\u001b[0m\u001b[1;33m\u001b[0m\u001b[0m\n\u001b[0;32m     17\u001b[0m \u001b[1;33m\u001b[0m\u001b[0m\n",
      "\u001b[1;32mD:\\学习资料\\DTU\\Scientific Computing in Quantum Information Science\\Quantum_Teleportation_Simulation\\circuits.py\u001b[0m in \u001b[0;36mcreate_blue_print\u001b[1;34m(self, input_n, gate_plan)\u001b[0m\n\u001b[0;32m     62\u001b[0m                         \u001b[1;32melse\u001b[0m\u001b[1;33m:\u001b[0m\u001b[1;33m\u001b[0m\u001b[1;33m\u001b[0m\u001b[0m\n\u001b[0;32m     63\u001b[0m                             \u001b[0minner_gates\u001b[0m\u001b[1;33m.\u001b[0m\u001b[0mappend\u001b[0m\u001b[1;33m(\u001b[0m\u001b[0minner_gate\u001b[0m\u001b[1;33m)\u001b[0m\u001b[1;33m\u001b[0m\u001b[1;33m\u001b[0m\u001b[0m\n\u001b[1;32m---> 64\u001b[1;33m                     \u001b[0mgate_list\u001b[0m\u001b[1;33m.\u001b[0m\u001b[0mappend\u001b[0m\u001b[1;33m(\u001b[0m\u001b[0mgates\u001b[0m\u001b[1;33m.\u001b[0m\u001b[0mget_gate_by_name\u001b[0m\u001b[1;33m(\u001b[0m\u001b[0mg_name\u001b[0m\u001b[1;33m,\u001b[0m \u001b[0mis_inverse\u001b[0m\u001b[1;33m,\u001b[0m \u001b[0minner_gates\u001b[0m\u001b[1;33m)\u001b[0m\u001b[1;33m[\u001b[0m\u001b[1;36m0\u001b[0m\u001b[1;33m]\u001b[0m\u001b[1;33m)\u001b[0m\u001b[1;33m\u001b[0m\u001b[1;33m\u001b[0m\u001b[0m\n\u001b[0m\u001b[0;32m     65\u001b[0m                     \u001b[1;32mif\u001b[0m \u001b[0mblue_print\u001b[0m\u001b[1;33m[\u001b[0m\u001b[0mmin\u001b[0m\u001b[1;33m(\u001b[0m\u001b[0mg_indexs\u001b[0m\u001b[1;33m)\u001b[0m\u001b[1;33m:\u001b[0m\u001b[0mmax\u001b[0m\u001b[1;33m(\u001b[0m\u001b[0mg_indexs\u001b[0m\u001b[1;33m)\u001b[0m \u001b[1;33m+\u001b[0m \u001b[1;36m1\u001b[0m\u001b[1;33m,\u001b[0m \u001b[0mstep\u001b[0m\u001b[1;33m]\u001b[0m\u001b[1;33m.\u001b[0m\u001b[0mmax\u001b[0m\u001b[1;33m(\u001b[0m\u001b[1;33m)\u001b[0m \u001b[1;33m!=\u001b[0m \u001b[1;33m-\u001b[0m\u001b[1;36m1\u001b[0m\u001b[1;33m:\u001b[0m\u001b[1;33m\u001b[0m\u001b[1;33m\u001b[0m\u001b[0m\n\u001b[0;32m     66\u001b[0m                         \u001b[0mstep\u001b[0m \u001b[1;33m+=\u001b[0m \u001b[1;36m1\u001b[0m\u001b[1;33m\u001b[0m\u001b[1;33m\u001b[0m\u001b[0m\n",
      "\u001b[1;32mD:\\学习资料\\DTU\\Scientific Computing in Quantum Information Science\\Quantum_Teleportation_Simulation\\gates.py\u001b[0m in \u001b[0;36mget_gate_by_name\u001b[1;34m(name, is_inverse, inner_gates)\u001b[0m\n\u001b[0;32m     25\u001b[0m         \u001b[1;32mreturn\u001b[0m \u001b[0mget_t_gate\u001b[0m\u001b[1;33m(\u001b[0m\u001b[1;33m)\u001b[0m\u001b[1;33m\u001b[0m\u001b[1;33m\u001b[0m\u001b[0m\n\u001b[0;32m     26\u001b[0m     \u001b[1;32melif\u001b[0m \u001b[0mname\u001b[0m \u001b[1;33m==\u001b[0m \u001b[1;34m\"CNOT\"\u001b[0m \u001b[1;32mor\u001b[0m \u001b[0mname\u001b[0m \u001b[1;33m==\u001b[0m \u001b[1;34m\"controlled_not\"\u001b[0m\u001b[1;33m:\u001b[0m\u001b[1;33m\u001b[0m\u001b[1;33m\u001b[0m\u001b[0m\n\u001b[1;32m---> 27\u001b[1;33m         \u001b[1;32mreturn\u001b[0m \u001b[0mget_cnot_gate\u001b[0m\u001b[1;33m(\u001b[0m\u001b[0mis_inverse\u001b[0m\u001b[1;33m,\u001b[0m \u001b[0minner_gates\u001b[0m\u001b[1;33m)\u001b[0m\u001b[1;33m\u001b[0m\u001b[1;33m\u001b[0m\u001b[0m\n\u001b[0m\u001b[0;32m     28\u001b[0m     \u001b[1;32melif\u001b[0m \u001b[0mname\u001b[0m \u001b[1;33m==\u001b[0m \u001b[1;34m\"CZ\"\u001b[0m \u001b[1;32mor\u001b[0m \u001b[0mname\u001b[0m \u001b[1;33m==\u001b[0m \u001b[1;34m\"controlled_z\"\u001b[0m\u001b[1;33m:\u001b[0m\u001b[1;33m\u001b[0m\u001b[1;33m\u001b[0m\u001b[0m\n\u001b[0;32m     29\u001b[0m         \u001b[1;32mreturn\u001b[0m \u001b[0mget_cz_gate\u001b[0m\u001b[1;33m(\u001b[0m\u001b[0mis_inverse\u001b[0m\u001b[1;33m,\u001b[0m\u001b[0minner_gates\u001b[0m\u001b[1;33m)\u001b[0m\u001b[1;33m\u001b[0m\u001b[1;33m\u001b[0m\u001b[0m\n",
      "\u001b[1;32mD:\\学习资料\\DTU\\Scientific Computing in Quantum Information Science\\Quantum_Teleportation_Simulation\\gates.py\u001b[0m in \u001b[0;36mget_cnot_gate\u001b[1;34m(is_inverse, inner_gates)\u001b[0m\n\u001b[0;32m    133\u001b[0m     \u001b[1;32mfor\u001b[0m \u001b[0mi\u001b[0m \u001b[1;32min\u001b[0m \u001b[0mrange\u001b[0m\u001b[1;33m(\u001b[0m\u001b[0minner_gates_num\u001b[0m\u001b[1;33m)\u001b[0m\u001b[1;33m:\u001b[0m\u001b[1;33m\u001b[0m\u001b[1;33m\u001b[0m\u001b[0m\n\u001b[0;32m    134\u001b[0m         \u001b[1;32mif\u001b[0m \u001b[0mlen\u001b[0m\u001b[1;33m(\u001b[0m\u001b[0minner_gates\u001b[0m\u001b[1;33m)\u001b[0m\u001b[1;33m>\u001b[0m\u001b[0mi\u001b[0m\u001b[1;33m:\u001b[0m\u001b[1;33m\u001b[0m\u001b[1;33m\u001b[0m\u001b[0m\n\u001b[1;32m--> 135\u001b[1;33m             \u001b[0mgate_matrix_list\u001b[0m\u001b[1;33m.\u001b[0m\u001b[0mappend\u001b[0m\u001b[1;33m(\u001b[0m\u001b[0minner_gates\u001b[0m\u001b[1;33m[\u001b[0m\u001b[0mi\u001b[0m\u001b[1;33m]\u001b[0m\u001b[1;33m[\u001b[0m\u001b[1;36m0\u001b[0m\u001b[1;33m]\u001b[0m\u001b[1;33m)\u001b[0m\u001b[1;33m\u001b[0m\u001b[1;33m\u001b[0m\u001b[0m\n\u001b[0m\u001b[0;32m    136\u001b[0m             \u001b[0mprint_str\u001b[0m \u001b[1;33m+=\u001b[0m \u001b[0minner_gates\u001b[0m\u001b[1;33m[\u001b[0m\u001b[0mi\u001b[0m\u001b[1;33m]\u001b[0m\u001b[1;33m[\u001b[0m\u001b[1;36m1\u001b[0m\u001b[1;33m]\u001b[0m\u001b[1;33m\u001b[0m\u001b[1;33m\u001b[0m\u001b[0m\n\u001b[0;32m    137\u001b[0m         \u001b[1;32melse\u001b[0m\u001b[1;33m:\u001b[0m\u001b[1;33m\u001b[0m\u001b[1;33m\u001b[0m\u001b[0m\n",
      "\u001b[1;31mTypeError\u001b[0m: 'int' object is not subscriptable"
     ]
    }
   ],
   "source": [
    "#Alice and Bob know state_ab, Alice gets qubit_a, Bob has qubit_b\n",
    "state_ab = \"00\"\n",
    "\n",
    "#Alice set message in qubit_c state (0 or 1)\n",
    "qubit_c = qubits.get_qubit(0.6,0.8)\n",
    "\n",
    "#Alice do bell measurement on qubit_c and qubit_a to build entangled relationship\n",
    "#and this operation change the state of qubit_b base on qubit_c at the same time\n",
    "#then Alice send measurement result in traditional communication method to Bob\n",
    "qubit_b,state_ca = bell_state.teleportation(qubit_c,state_ab)\n",
    "\n",
    "#Bob use gates on qubit_b base on the measurement result\n",
    "#how to choose gates: \n",
    "#    measurement result is base on entangled relationship between qubit_c and qubit_a which is same like the relationship between qubit_a and qubit_b\n",
    "#    which means that how the measurement result changed from state_ab to state_bc is same like the state that qubit_c changed to qubit_b\n",
    "#    so when Bob know the state_ab and state_ca, he could find the way to restore state_ab from state_ca\n",
    "#    and he could do the same operation on qubit_b to restore the state of orignal qubit_c and get the message\n",
    "qubit_b = bell_state.unitary_operation(qubit_b, 0, state_ca, state_ab)\n",
    "state_b = qubits.measurement(qubit_b,[0])[0]\n",
    "print(\"qubit_c(sender):\\n{}\\nmeasurement_ca(send):{}\\nqubit_b(receiver):\\n{}\".format(qubit_c, state_ca, qubit_b))"
   ]
  },
  {
   "cell_type": "markdown",
   "id": "a98b615f-2ddd-4eb1-9c19-e470e6f24003",
   "metadata": {},
   "source": [
    "Send message base on classic state (massage encode as 0 or 1)"
   ]
  },
  {
   "cell_type": "code",
   "execution_count": null,
   "id": "117dcdf7-297e-4593-a7d3-eff8f68315e6",
   "metadata": {},
   "outputs": [],
   "source": [
    "message = \"Hello World!\"\n",
    "print(\"[Send]:{}\".format(message))\n",
    "message_encode = format(int(bytes(message, 'utf-8').hex(), base=16), 'b')\n",
    "print(\"[Encode]:{}\".format(message_encode))"
   ]
  },
  {
   "cell_type": "code",
   "execution_count": null,
   "id": "d9316a63-f09d-4f26-a883-3744df06c88d",
   "metadata": {},
   "outputs": [],
   "source": [
    "receive_buffer=\"\"\n",
    "for m in message_encode:\n",
    "    state_ab = \"10\"\n",
    "    qubits_ab = qubits.get_qubit_matrix(state_ab)\n",
    "    qubit_c = qubits.get_qubit_matrix([m])\n",
    "    qubit_b,state_ca = bell_state.teleportation(qubit_c,state_ab,[0.0])\n",
    "    \n",
    "    qubit_b = bell_state.unitary_operation(qubit_b, 0, state_ca, state_ab)\n",
    "    state_b = qubits.measurement(qubit_b,[0])[0]\n",
    "    receive_buffer += state_b\n",
    "    print(\"qubit_c(sender):{} | measurement_ca(send):{} | qubit_b(receiver):{}\".format(m, state_ca, state_b))"
   ]
  },
  {
   "cell_type": "code",
   "execution_count": null,
   "id": "20b1fb32-8132-4483-9296-6663b1dd5f60",
   "metadata": {},
   "outputs": [],
   "source": [
    "print(\"[Receive]:{}\".format(receive_buffer))\n",
    "message_decode = bytes.fromhex(format(int(receive_buffer, base=2), 'x')).decode('utf-8')\n",
    "print(\"[Decode]:{} ({} binary bit)\".format(message_decode,len(receive_buffer)))"
   ]
  },
  {
   "cell_type": "markdown",
   "id": "1f137593-3308-48b2-b59f-6b8df98c9cdf",
   "metadata": {},
   "source": [
    "Send message base on superposition state (message in probability)"
   ]
  },
  {
   "cell_type": "code",
   "execution_count": null,
   "id": "a7d74372-010a-4210-aeba-a84b8a25aac6",
   "metadata": {
    "tags": []
   },
   "outputs": [],
   "source": [
    "batch_n = 10 ** 4\n",
    "state_ab = \"00\"\n",
    "message = 7\n",
    "decode_key = 5\n",
    "qubit_c = qubits.get_qubit(message,decode_key)\n",
    "\n",
    "receive = {\"0\":0,\"1\":0}\n",
    "print(\"encode_qubit_c:\\n{}\".format(qubit_c))\n",
    "\n",
    "#receive different state_ca and measure qubit_b for many times, qubit_b is superposition state\n",
    "qubit_b, state_ca = bell_state.teleportation(qubit_c, state_ab)\n",
    "qubit_b = bell_state.unitary_operation(qubit_b, 0, state_ca, state_ab)\n",
    "for i in range(batch_n):\n",
    "    state_b = qubits.measurement(qubit_b, [0])[0]\n",
    "    receive[state_b] = receive[state_b]+1\n",
    "print(receive)\n",
    "receive_message = decode_key/receive[\"1\"]*receive[\"0\"]\n",
    "print(\"message(sender):{}(decimal) = {}(binary bit) | batch of qubit:{} | decode_probability(receiver):{} => {}\".format(message,len(bin(message).split(\"0b\")[-1]),batch_n,receive_message,round(receive_message)))"
   ]
  },
  {
   "cell_type": "code",
   "execution_count": null,
   "id": "c0bed0d8-8db2-47ae-bc81-47e4253adc9d",
   "metadata": {},
   "outputs": [],
   "source": [
    "def test_message_in_superposition_state(message=1,decode_key=1,index_test_n = 1000,index_list = range(0, 7),thread_number=8,state_ab=\"00\"):\n",
    "    qubit_c = qubits.get_qubit(message,decode_key)\n",
    "    qubit_b, state_ca = bell_state.teleportation(qubit_c, state_ab)\n",
    "    qubit_b = bell_state.unitary_operation(qubit_b, 0, state_ca, state_ab)\n",
    "\n",
    "    accuracy_list = []\n",
    "    for i in index_list:\n",
    "        # multi_thread\n",
    "        thread_n = thread_number\n",
    "        task_manager = Manager()\n",
    "        result_queue = task_manager.Queue(thread_n)\n",
    "        submit_total = 0\n",
    "        task_list = []\n",
    "        for t_i in range(thread_n):\n",
    "            if t_i is not thread_n - 1:\n",
    "                submit_n = int(index_test_n / thread_n)\n",
    "            else:\n",
    "                submit_n = index_test_n - submit_total\n",
    "            task = Process(target=main.multi_thread_measurement,\n",
    "                           args=[submit_n, message, i, qubit_b, decode_key, result_queue])\n",
    "            task.start()\n",
    "            task_list.append(task)\n",
    "            submit_total += submit_n\n",
    "        for task in task_list:\n",
    "            task.join()\n",
    "            task.close()\n",
    "\n",
    "        wrong_n = 0\n",
    "        for r_i in range(result_queue.qsize()):\n",
    "            wrong_n += result_queue.get()\n",
    "        accuracy = (index_test_n - wrong_n) / index_test_n\n",
    "        accuracy_list.append(accuracy)\n",
    "    return accuracy_list"
   ]
  },
  {
   "cell_type": "code",
   "execution_count": null,
   "id": "0be2e331-b8e1-486d-a957-1df2f9db097e",
   "metadata": {},
   "outputs": [],
   "source": [
    "thread_number = 8\n",
    "index_list = range(2, 4)\n",
    "accuracy_3_4 = test_message_in_superposition_state(message = 9,decode_key = 5,index_test_n = 1000,index_list = index_list,thread_number=thread_number)\n",
    "accuracy_6_7 = test_message_in_superposition_state(message = 99,decode_key = 50,index_test_n = 1000,index_list = index_list,thread_number=thread_number)"
   ]
  },
  {
   "cell_type": "code",
   "execution_count": null,
   "id": "ec27ef5a-77ea-4caf-b198-2662904c4db6",
   "metadata": {},
   "outputs": [],
   "source": [
    "plt.plot(index_list, np.array(accuracy_3_4)*100, label=\"send 3 to 4 binary bits\")\n",
    "plt.plot(index_list, np.array(accuracy_6_7)*100, label=\"send 6 to 7 binary bits\")\n",
    "plt.ylabel(\"Accuracy [%]\")\n",
    "plt.xlabel(\"Number of qubit [10ⁿ]\")\n",
    "plt.title(\"How many qubits need to be used when send a message base on the superposition state\")\n",
    "plt.legend()\n",
    "plt.show()"
   ]
  },
  {
   "cell_type": "markdown",
   "id": "4634fe19-31c0-4e79-91bb-ee87650b4a65",
   "metadata": {},
   "source": [
    "Conclusion: using superposition state to send message would waste a lot of qubit which is a bad idea to send nomal infomation"
   ]
  },
  {
   "cell_type": "markdown",
   "id": "b7aa5c57-6ef7-4345-9e91-925715a57ba0",
   "metadata": {},
   "source": [
    "Calculation base on density matrix (has more information compare with state vector, such as coherence)"
   ]
  },
  {
   "cell_type": "code",
   "execution_count": null,
   "id": "bbb50b8e-7299-42c8-8f75-5b13257d4f40",
   "metadata": {},
   "outputs": [],
   "source": [
    "state_ab = \"00\"\n",
    "qubit_c = qubits.get_qubit(0.6,0.8)\n",
    "density_c = qubits.get_density_matrix(qubit_c)\n",
    "density_b,state_ca = bell_state.teleportation(density_c,state_ab)\n",
    "density_b = bell_state.unitary_operation(density_b, 0, state_ca, state_ab)\n",
    "state_b = qubits.measurement(density_b,[0])[0]\n",
    "print(\"qubit_c(sender):\\n{}\\nmeasurement_ca(send):{}\\nqubit_b(receiver):\\n{}\".format(density_c, state_ca, density_b))"
   ]
  },
  {
   "cell_type": "markdown",
   "id": "dd98e022-8fc9-4706-93a1-dc5e373aa3df",
   "metadata": {},
   "source": [
    "State vector could show the infomation on z-axis of bloch sphere which only has 1 dimension.\n",
    "\n",
    "Density matrix could show the infomation on z-axis and x-axis of bloch which has 2 dimensions.\n",
    "\n",
    "This makes density matrix could be used to simulate dephasing noise on qubit."
   ]
  },
  {
   "cell_type": "markdown",
   "id": "9c0eb585-f7ee-4c84-9109-53c2b498ff82",
   "metadata": {},
   "source": [
    "Dephasing noise would make qubit lose it's coherence base on noise intensity.\n",
    "\n",
    "In this process, the bell state may change to mixed state and that would destroy the quantum entanglement between two qubit."
   ]
  },
  {
   "cell_type": "code",
   "execution_count": null,
   "id": "30d7dec7-2db0-4647-adda-9ad653655714",
   "metadata": {
    "tags": []
   },
   "outputs": [],
   "source": [
    "state_ab = \"00\"\n",
    "qubit_c = qubits.get_qubit(0.6,0.8)\n",
    "density_c = qubits.get_density_matrix(qubit_c)\n",
    "density_b, state_ca = bell_state.teleportation(density_c, state_ab,[1,0])\n",
    "density_b = bell_state.unitary_operation(density_b, 0, state_ca, state_ab)\n",
    "state_b = qubits.measurement(density_b, [0])[0]\n",
    "print(\"qubit_c(sender):\\n{}\\nmeasurement_ca(send):{}\\nqubit_b(receiver):\\n{}\".format(density_c, state_ca, density_b))"
   ]
  },
  {
   "cell_type": "markdown",
   "id": "53e93fad-99f2-46d2-8f6e-b19c06a3aec0",
   "metadata": {},
   "source": [
    "Test dephasing noise in different noise intensity and influence on z-axis"
   ]
  },
  {
   "cell_type": "code",
   "execution_count": null,
   "id": "a56614e3-cd89-46b8-a0b1-690865b1299c",
   "metadata": {
    "tags": []
   },
   "outputs": [],
   "source": [
    "step = 0.1\n",
    "noise_intensity_list = np.arange(0, 1+step, step)\n",
    "z_keep_list = np.arange(0, 1+step, step)\n",
    "state_ab=\"00\"\n",
    "qubit_c = qubits.get_qubit(0.6,0.8)\n",
    "density_c = qubits.get_density_matrix(qubit_c)\n",
    "\n",
    "fidelity_matrix = []\n",
    "for noise_intensity in noise_intensity_list:\n",
    "    fidelity_list = []\n",
    "    for z_keep in z_keep_list:\n",
    "        density_b, state_ca = bell_state.teleportation(density_c, state_ab, [noise_intensity, z_keep])\n",
    "        density_b = bell_state.unitary_operation(density_b, 0, state_ca, state_ab)\n",
    "        state_b = qubits.measurement(density_b, [0])[0]\n",
    "        fidelity = qubits.get_fidelity(density_c,density_b)\n",
    "        fidelity_list.append(fidelity)\n",
    "    fidelity_matrix.append(fidelity_list)\n",
    "fidelity_matrix = np.array(fidelity_matrix)"
   ]
  },
  {
   "cell_type": "code",
   "execution_count": null,
   "id": "5968461b-140b-4c29-962e-75ff9e8d2896",
   "metadata": {
    "tags": []
   },
   "outputs": [],
   "source": [
    "X, Y = np.meshgrid(noise_intensity_list,z_keep_list)\n",
    "ax = plt.figure().add_subplot(projection='3d')\n",
    "ax.plot_surface(X, Y, fidelity_matrix.T, edgecolor='#2a2a2a', lw=0.5, rstride=1, cstride=1, alpha=0.3)\n",
    "ax.contourf(X, Y, fidelity_matrix.T, zdir='z', offset=0.5, cmap='rainbow')\n",
    "ax.contourf(X, Y, fidelity_matrix.T, zdir='x', offset=0, cmap='rainbow')\n",
    "ax.contourf(X, Y, fidelity_matrix.T, zdir='y', offset=1, cmap='rainbow')\n",
    "ax.set(xlim=(0, 1), ylim=(0, 1), zlim=(0.5, 1),xlabel='Noise intensity', ylabel='Z-axis proportion', zlabel='Fidelity',title=\"How fidelity change because of dephasing_noise\")\n",
    "plt.show()"
   ]
  },
  {
   "cell_type": "code",
   "execution_count": null,
   "id": "4e5fc284-6b70-484b-9cdd-717f9c517cb4",
   "metadata": {
    "tags": []
   },
   "outputs": [],
   "source": [
    "for show_i in range(noise_intensity_list.size):\n",
    "    density_data = fidelity_matrix[show_i,:]\n",
    "    plt.plot(z_keep_list,density_data, label=\"Noise intensity is %.1f\"%noise_intensity_list[show_i])\n",
    "\n",
    "plt.ylabel(\"Fidelity\")\n",
    "plt.xlabel(\"Z-axis proportion\")\n",
    "plt.title(\"How fidelity change because of dephasing noise\")\n",
    "plt.legend()\n",
    "plt.show()"
   ]
  },
  {
   "cell_type": "markdown",
   "id": "f2554270-42d2-45ab-9820-f9d3ea858c16",
   "metadata": {
    "tags": []
   },
   "source": [
    "Conclusion: z-axis proportion would influence fidelity base on noise intensity but not to much campare with changing from noise intensity."
   ]
  },
  {
   "cell_type": "code",
   "execution_count": null,
   "id": "a8acebd7-6ada-4ff9-898a-b13c1e0e73b2",
   "metadata": {},
   "outputs": [],
   "source": []
  }
 ],
 "metadata": {
  "kernelspec": {
   "display_name": "env_SCIQIS_test",
   "language": "python",
   "name": "env_sciqis_test"
  },
  "language_info": {
   "codemirror_mode": {
    "name": "ipython",
    "version": 3
   },
   "file_extension": ".py",
   "mimetype": "text/x-python",
   "name": "python",
   "nbconvert_exporter": "python",
   "pygments_lexer": "ipython3",
   "version": "3.7.16"
  }
 },
 "nbformat": 4,
 "nbformat_minor": 5
}
